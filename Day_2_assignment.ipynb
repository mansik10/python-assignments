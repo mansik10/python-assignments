{
  "nbformat": 4,
  "nbformat_minor": 0,
  "metadata": {
    "colab": {
      "name": "Day 2 assignment.ipynb",
      "provenance": []
    },
    "kernelspec": {
      "name": "python3",
      "display_name": "Python 3"
    }
  },
  "cells": [
    {
      "cell_type": "markdown",
      "metadata": {
        "id": "Q2-j6sBVIlLK",
        "colab_type": "text"
      },
      "source": [
        "**python basic syntax**"
      ]
    },
    {
      "cell_type": "markdown",
      "metadata": {
        "id": "CK4qZwfWJRsT",
        "colab_type": "text"
      },
      "source": [
        "\n",
        "\n",
        "1.   Back Slash\n",
        "\n",
        "2.   Tiple Quotes\n",
        "3.   String inside the quotes\n",
        "4.   Escape sequence of string\n",
        "5.   Formatted output\n",
        "\n",
        "\n",
        "\n"
      ]
    },
    {
      "cell_type": "markdown",
      "metadata": {
        "id": "XefeHaxpK4NY",
        "colab_type": "text"
      },
      "source": [
        "**PYTHON VARIABLE AND ASSIGNMENT STATEMENTS**"
      ]
    },
    {
      "cell_type": "markdown",
      "metadata": {
        "id": "o3w01PK4LG_d",
        "colab_type": "text"
      },
      "source": [
        "WHAT IS PYTHON VARIABLE?\n",
        "\n",
        "Variable means linking of data to a name,it refers to a memory location that contains the data\n",
        "\n",
        "\n",
        "\n",
        "*   Rules to define a variable\n",
        "   \n",
        "   - A keyword cannot be used as a variable .\n",
        "   - A variable can contain letters,numbers,underscore.\n",
        "   - python is case sensitive.\n",
        "   - Variable cannot start with a number.\n",
        "\n",
        "\n",
        "ASSIGNMENT STATEMENT\n",
        "\n",
        "variable name = data\n",
        "   \n",
        "   example:"
      ]
    },
    {
      "cell_type": "code",
      "metadata": {
        "id": "PyrxP963MOQT",
        "colab_type": "code",
        "colab": {
          "base_uri": "https://localhost:8080/",
          "height": 35
        },
        "outputId": "e3198569-2118-426f-bd91-2d65879a2829"
      },
      "source": [
        "x=30\n",
        "id(x)"
      ],
      "execution_count": 5,
      "outputs": [
        {
          "output_type": "execute_result",
          "data": {
            "text/plain": [
              "10915424"
            ]
          },
          "metadata": {
            "tags": []
          },
          "execution_count": 5
        }
      ]
    },
    {
      "cell_type": "code",
      "metadata": {
        "id": "U4km44VbMYkc",
        "colab_type": "code",
        "colab": {
          "base_uri": "https://localhost:8080/",
          "height": 35
        },
        "outputId": "972628b3-b0ef-4a9d-e383-c9fcba4ec39a"
      },
      "source": [
        "y=30\n",
        "id(y)"
      ],
      "execution_count": 6,
      "outputs": [
        {
          "output_type": "execute_result",
          "data": {
            "text/plain": [
              "10915424"
            ]
          },
          "metadata": {
            "tags": []
          },
          "execution_count": 6
        }
      ]
    },
    {
      "cell_type": "code",
      "metadata": {
        "id": "i8uYa564McH0",
        "colab_type": "code",
        "colab": {}
      },
      "source": [
        "del x"
      ],
      "execution_count": 7,
      "outputs": []
    },
    {
      "cell_type": "code",
      "metadata": {
        "id": "Jw7ED8fmMekd",
        "colab_type": "code",
        "colab": {
          "base_uri": "https://localhost:8080/",
          "height": 35
        },
        "outputId": "5d5896bc-a9b1-4298-b0a0-b2ec9a4d4ee7"
      },
      "source": [
        "y"
      ],
      "execution_count": 8,
      "outputs": [
        {
          "output_type": "execute_result",
          "data": {
            "text/plain": [
              "30"
            ]
          },
          "metadata": {
            "tags": []
          },
          "execution_count": 8
        }
      ]
    },
    {
      "cell_type": "markdown",
      "metadata": {
        "id": "0Q77D4r-NHW2",
        "colab_type": "text"
      },
      "source": [
        "**python operators**\n",
        "\n",
        "1.arithmetic statements\n",
        "\n",
        "example:\n"
      ]
    },
    {
      "cell_type": "code",
      "metadata": {
        "id": "LpNSGL6UNnms",
        "colab_type": "code",
        "colab": {
          "base_uri": "https://localhost:8080/",
          "height": 35
        },
        "outputId": "b52b6d57-77d5-4639-aa94-4828b2019fb5"
      },
      "source": [
        "a=20\n",
        "b=30\n",
        "a+b"
      ],
      "execution_count": 9,
      "outputs": [
        {
          "output_type": "execute_result",
          "data": {
            "text/plain": [
              "50"
            ]
          },
          "metadata": {
            "tags": []
          },
          "execution_count": 9
        }
      ]
    },
    {
      "cell_type": "code",
      "metadata": {
        "id": "nPkSXArMNt7Y",
        "colab_type": "code",
        "colab": {
          "base_uri": "https://localhost:8080/",
          "height": 35
        },
        "outputId": "214d2772-b5a4-41d9-ed8d-cadb7dff518b"
      },
      "source": [
        "a-b"
      ],
      "execution_count": 10,
      "outputs": [
        {
          "output_type": "execute_result",
          "data": {
            "text/plain": [
              "-10"
            ]
          },
          "metadata": {
            "tags": []
          },
          "execution_count": 10
        }
      ]
    },
    {
      "cell_type": "code",
      "metadata": {
        "id": "U3PHbwK1Nv7A",
        "colab_type": "code",
        "colab": {
          "base_uri": "https://localhost:8080/",
          "height": 35
        },
        "outputId": "8ffe6b25-1332-4831-f3d0-c5aa75452b8d"
      },
      "source": [
        "a%b"
      ],
      "execution_count": 11,
      "outputs": [
        {
          "output_type": "execute_result",
          "data": {
            "text/plain": [
              "20"
            ]
          },
          "metadata": {
            "tags": []
          },
          "execution_count": 11
        }
      ]
    },
    {
      "cell_type": "code",
      "metadata": {
        "id": "vsP_A9M0NyuZ",
        "colab_type": "code",
        "colab": {
          "base_uri": "https://localhost:8080/",
          "height": 35
        },
        "outputId": "2391ca29-579b-4d84-e5bf-bb77a03277dd"
      },
      "source": [
        "a/b"
      ],
      "execution_count": 12,
      "outputs": [
        {
          "output_type": "execute_result",
          "data": {
            "text/plain": [
              "0.6666666666666666"
            ]
          },
          "metadata": {
            "tags": []
          },
          "execution_count": 12
        }
      ]
    },
    {
      "cell_type": "code",
      "metadata": {
        "id": "lYCNfhXxN2GR",
        "colab_type": "code",
        "colab": {
          "base_uri": "https://localhost:8080/",
          "height": 35
        },
        "outputId": "f0c4e12a-a920-466e-8149-842e933d7972"
      },
      "source": [
        "a*b"
      ],
      "execution_count": 13,
      "outputs": [
        {
          "output_type": "execute_result",
          "data": {
            "text/plain": [
              "600"
            ]
          },
          "metadata": {
            "tags": []
          },
          "execution_count": 13
        }
      ]
    },
    {
      "cell_type": "code",
      "metadata": {
        "id": "fygREGx8N0c3",
        "colab_type": "code",
        "colab": {
          "base_uri": "https://localhost:8080/",
          "height": 35
        },
        "outputId": "29a80a63-037a-4ebc-d0b5-4cb141ae6410"
      },
      "source": [
        "a**b"
      ],
      "execution_count": 14,
      "outputs": [
        {
          "output_type": "execute_result",
          "data": {
            "text/plain": [
              "1073741824000000000000000000000000000000"
            ]
          },
          "metadata": {
            "tags": []
          },
          "execution_count": 14
        }
      ]
    },
    {
      "cell_type": "code",
      "metadata": {
        "id": "nsVsPqS_N59y",
        "colab_type": "code",
        "colab": {
          "base_uri": "https://localhost:8080/",
          "height": 35
        },
        "outputId": "866e3992-36a8-4df6-fb16-ba97d36a02cc"
      },
      "source": [
        "a//b"
      ],
      "execution_count": 15,
      "outputs": [
        {
          "output_type": "execute_result",
          "data": {
            "text/plain": [
              "0"
            ]
          },
          "metadata": {
            "tags": []
          },
          "execution_count": 15
        }
      ]
    },
    {
      "cell_type": "code",
      "metadata": {
        "id": "8VwoDWBtN8R_",
        "colab_type": "code",
        "colab": {}
      },
      "source": [
        ""
      ],
      "execution_count": null,
      "outputs": []
    },
    {
      "cell_type": "markdown",
      "metadata": {
        "id": "5U6ObjaQODBs",
        "colab_type": "text"
      },
      "source": [
        "2.comparison operators\n",
        "\n",
        "examples:\n"
      ]
    },
    {
      "cell_type": "code",
      "metadata": {
        "id": "E60vKlsgOKiT",
        "colab_type": "code",
        "colab": {
          "base_uri": "https://localhost:8080/",
          "height": 35
        },
        "outputId": "38238cf3-c6d9-43f2-f464-f7331663a47f"
      },
      "source": [
        "a=25\n",
        "b=25\n",
        "a==b"
      ],
      "execution_count": 16,
      "outputs": [
        {
          "output_type": "execute_result",
          "data": {
            "text/plain": [
              "True"
            ]
          },
          "metadata": {
            "tags": []
          },
          "execution_count": 16
        }
      ]
    },
    {
      "cell_type": "code",
      "metadata": {
        "id": "l6rveJoVOO-V",
        "colab_type": "code",
        "colab": {
          "base_uri": "https://localhost:8080/",
          "height": 35
        },
        "outputId": "7a9800f2-40f6-4fae-b223-fe5a1df453d0"
      },
      "source": [
        "a<b"
      ],
      "execution_count": 17,
      "outputs": [
        {
          "output_type": "execute_result",
          "data": {
            "text/plain": [
              "False"
            ]
          },
          "metadata": {
            "tags": []
          },
          "execution_count": 17
        }
      ]
    },
    {
      "cell_type": "code",
      "metadata": {
        "id": "HXQTrV2LOQOi",
        "colab_type": "code",
        "colab": {
          "base_uri": "https://localhost:8080/",
          "height": 35
        },
        "outputId": "4da83ced-aa62-467d-ed71-485bba47690c"
      },
      "source": [
        "a>b"
      ],
      "execution_count": 18,
      "outputs": [
        {
          "output_type": "execute_result",
          "data": {
            "text/plain": [
              "False"
            ]
          },
          "metadata": {
            "tags": []
          },
          "execution_count": 18
        }
      ]
    },
    {
      "cell_type": "code",
      "metadata": {
        "id": "PDIbohMTOSTu",
        "colab_type": "code",
        "colab": {
          "base_uri": "https://localhost:8080/",
          "height": 35
        },
        "outputId": "072aba7d-4f6f-4048-f90f-77e7ad1a7880"
      },
      "source": [
        "a>=b"
      ],
      "execution_count": 19,
      "outputs": [
        {
          "output_type": "execute_result",
          "data": {
            "text/plain": [
              "True"
            ]
          },
          "metadata": {
            "tags": []
          },
          "execution_count": 19
        }
      ]
    },
    {
      "cell_type": "code",
      "metadata": {
        "id": "cDXTGDHcOUDc",
        "colab_type": "code",
        "colab": {
          "base_uri": "https://localhost:8080/",
          "height": 35
        },
        "outputId": "b190e1bb-d9a4-4106-b249-6f32a3f4b275"
      },
      "source": [
        "a<=b"
      ],
      "execution_count": 20,
      "outputs": [
        {
          "output_type": "execute_result",
          "data": {
            "text/plain": [
              "True"
            ]
          },
          "metadata": {
            "tags": []
          },
          "execution_count": 20
        }
      ]
    },
    {
      "cell_type": "code",
      "metadata": {
        "id": "tNCnC-fOOVxP",
        "colab_type": "code",
        "colab": {
          "base_uri": "https://localhost:8080/",
          "height": 35
        },
        "outputId": "02b48d2c-d459-4f63-a47d-0657f9f334b5"
      },
      "source": [
        "a!=b"
      ],
      "execution_count": 21,
      "outputs": [
        {
          "output_type": "execute_result",
          "data": {
            "text/plain": [
              "False"
            ]
          },
          "metadata": {
            "tags": []
          },
          "execution_count": 21
        }
      ]
    },
    {
      "cell_type": "code",
      "metadata": {
        "id": "ndqMQSqcOXbN",
        "colab_type": "code",
        "colab": {}
      },
      "source": [
        ""
      ],
      "execution_count": null,
      "outputs": []
    },
    {
      "cell_type": "markdown",
      "metadata": {
        "id": "WzgTNfsWOb0n",
        "colab_type": "text"
      },
      "source": [
        "3.assignment operators\n",
        "\n",
        "4.bitwise operator\n",
        "\n",
        "5.logical operator\n",
        "\n",
        "examples:\n",
        "\n"
      ]
    },
    {
      "cell_type": "code",
      "metadata": {
        "id": "BAvF_dn_PBUp",
        "colab_type": "code",
        "colab": {
          "base_uri": "https://localhost:8080/",
          "height": 35
        },
        "outputId": "a486bf96-8a08-496d-85ec-b7125e68a8f6"
      },
      "source": [
        "a=5\n",
        "b=10\n",
        "a>10"
      ],
      "execution_count": 26,
      "outputs": [
        {
          "output_type": "execute_result",
          "data": {
            "text/plain": [
              "False"
            ]
          },
          "metadata": {
            "tags": []
          },
          "execution_count": 26
        }
      ]
    },
    {
      "cell_type": "code",
      "metadata": {
        "id": "UFPgO8qiPH-p",
        "colab_type": "code",
        "colab": {
          "base_uri": "https://localhost:8080/",
          "height": 35
        },
        "outputId": "121b637b-0d58-49db-b811-2561e7357af5"
      },
      "source": [
        "a>10 or 20>9"
      ],
      "execution_count": 27,
      "outputs": [
        {
          "output_type": "execute_result",
          "data": {
            "text/plain": [
              "True"
            ]
          },
          "metadata": {
            "tags": []
          },
          "execution_count": 27
        }
      ]
    },
    {
      "cell_type": "markdown",
      "metadata": {
        "id": "xrR1Dl7_PSVo",
        "colab_type": "text"
      },
      "source": [
        "6.membership operators\n",
        "\n",
        "examples:"
      ]
    },
    {
      "cell_type": "code",
      "metadata": {
        "id": "ZFapcX_0Pl_C",
        "colab_type": "code",
        "colab": {
          "base_uri": "https://localhost:8080/",
          "height": 35
        },
        "outputId": "8f883113-734e-4d52-802d-8a03b8c2328b"
      },
      "source": [
        "str1= \"pythoncourse\"\n",
        "\"a\" in str1"
      ],
      "execution_count": 29,
      "outputs": [
        {
          "output_type": "execute_result",
          "data": {
            "text/plain": [
              "False"
            ]
          },
          "metadata": {
            "tags": []
          },
          "execution_count": 29
        }
      ]
    },
    {
      "cell_type": "code",
      "metadata": {
        "id": "YYicRxZyPzCc",
        "colab_type": "code",
        "colab": {
          "base_uri": "https://localhost:8080/",
          "height": 35
        },
        "outputId": "fe611c8a-0535-4122-a16a-22cfc2cab28a"
      },
      "source": [
        "str1= \"elephant\"\n",
        "\"h\" in str1"
      ],
      "execution_count": 30,
      "outputs": [
        {
          "output_type": "execute_result",
          "data": {
            "text/plain": [
              "True"
            ]
          },
          "metadata": {
            "tags": []
          },
          "execution_count": 30
        }
      ]
    },
    {
      "cell_type": "markdown",
      "metadata": {
        "id": "x0QIWhsoP_39",
        "colab_type": "text"
      },
      "source": [
        "7.identity operator\n",
        "\n",
        "examples:"
      ]
    },
    {
      "cell_type": "code",
      "metadata": {
        "id": "j7di05K6QHAd",
        "colab_type": "code",
        "colab": {
          "base_uri": "https://localhost:8080/",
          "height": 35
        },
        "outputId": "0d80d964-5d84-455d-d4b3-7ca6b35426e6"
      },
      "source": [
        "a=20\n",
        "b=10\n",
        "a==b"
      ],
      "execution_count": 31,
      "outputs": [
        {
          "output_type": "execute_result",
          "data": {
            "text/plain": [
              "False"
            ]
          },
          "metadata": {
            "tags": []
          },
          "execution_count": 31
        }
      ]
    },
    {
      "cell_type": "code",
      "metadata": {
        "id": "e8VC9wpOQKfA",
        "colab_type": "code",
        "colab": {
          "base_uri": "https://localhost:8080/",
          "height": 35
        },
        "outputId": "69a9cf6e-fe5a-4572-b079-f342500ed613"
      },
      "source": [
        "a is b"
      ],
      "execution_count": 32,
      "outputs": [
        {
          "output_type": "execute_result",
          "data": {
            "text/plain": [
              "False"
            ]
          },
          "metadata": {
            "tags": []
          },
          "execution_count": 32
        }
      ]
    },
    {
      "cell_type": "markdown",
      "metadata": {
        "id": "Brg6AMVLQSdT",
        "colab_type": "text"
      },
      "source": [
        "operator precedence\n",
        "\n",
        "here we follow left to right rule."
      ]
    }
  ]
}