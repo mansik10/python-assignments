{
  "nbformat": 4,
  "nbformat_minor": 0,
  "metadata": {
    "colab": {
      "name": "Day3assignments.ipynb",
      "provenance": [],
      "collapsed_sections": []
    },
    "kernelspec": {
      "name": "python3",
      "display_name": "Python 3"
    }
  },
  "cells": [
    {
      "cell_type": "markdown",
      "metadata": {
        "id": "XevIOdUaZSQX",
        "colab_type": "text"
      },
      "source": [
        "**1.sum of n numbers with the help of while loop.**"
      ]
    },
    {
      "cell_type": "code",
      "metadata": {
        "id": "EgOkkN0h-y9n",
        "colab_type": "code",
        "colab": {
          "base_uri": "https://localhost:8080/",
          "height": 72
        },
        "outputId": "4141e2b3-4182-437c-b244-ea7ef5b46d68"
      },
      "source": [
        "Num = int(input(\" Enter any Number: \"))\n",
        "Sum = 0\n",
        "\n",
        "while(Num > 0):\n",
        "    Rem = Num % 10\n",
        "    Sum = Sum + Rem\n",
        "    Num = Num //10\n",
        "\n",
        "print(\"\\n Sum of the digits of Given Number = %d\" %Sum)\n"
      ],
      "execution_count": 21,
      "outputs": [
        {
          "output_type": "stream",
          "text": [
            " Enter any Number: 185412654\n",
            "\n",
            " Sum of the digits of Given Number = 36\n"
          ],
          "name": "stdout"
        }
      ]
    },
    {
      "cell_type": "markdown",
      "metadata": {
        "id": "vci5I-Y2_h03",
        "colab_type": "text"
      },
      "source": [
        "**2.Take a integer and find the number is prime or not.**"
      ]
    },
    {
      "cell_type": "code",
      "metadata": {
        "id": "VnbFkV1-C-Hj",
        "colab_type": "code",
        "colab": {
          "base_uri": "https://localhost:8080/",
          "height": 54
        },
        "outputId": "08e86265-d8af-4f2d-df83-4bfc31db7a69"
      },
      "source": [
        "num = int(input(\"Enter a number: \"))  \n",
        "  \n",
        "if num > 1:  \n",
        "   for i in range(2,num):  \n",
        "       if (num % i) == 0:  \n",
        "           print(num,\"is not a prime number\")  \n",
        "         \n",
        "           break  \n",
        "   else:  \n",
        "       print(num,\"is a prime number\")  \n",
        "         \n",
        "else:  \n",
        "   print(num,\"is not a prime number\") "
      ],
      "execution_count": 26,
      "outputs": [
        {
          "output_type": "stream",
          "text": [
            "Enter a number: 16\n",
            "16 is not a prime number\n"
          ],
          "name": "stdout"
        }
      ]
    },
    {
      "cell_type": "code",
      "metadata": {
        "id": "zldbto4SDYaQ",
        "colab_type": "code",
        "colab": {}
      },
      "source": [
        ""
      ],
      "execution_count": null,
      "outputs": []
    }
  ]
}