{
  "nbformat": 4,
  "nbformat_minor": 0,
  "metadata": {
    "colab": {
      "name": "Day6Assignment.ipynb",
      "provenance": []
    },
    "kernelspec": {
      "name": "python3",
      "display_name": "Python 3"
    }
  },
  "cells": [
    {
      "cell_type": "markdown",
      "metadata": {
        "id": "xQYapdxWAaQv",
        "colab_type": "text"
      },
      "source": [
        "**Question 1:**\n",
        "\n",
        "list1=[1,2,3,4,5]\n",
        "\n",
        "list2=[\"a\",\"b\",\"c\",\"d\",\"e\"]\n",
        "\n",
        " convert to a dictionary in one line code using list comprehension (without using zip method)"
      ]
    },
    {
      "cell_type": "code",
      "metadata": {
        "id": "IjS87Qy1AU7p",
        "colab_type": "code",
        "colab": {
          "base_uri": "https://localhost:8080/",
          "height": 109
        },
        "outputId": "1fd7110d-2554-4e72-efe8-c5c462b3604b"
      },
      "source": [
        "list1=[1,2,3,4,5]\n",
        "list2=[\"a\",\"b\",\"c\",\"d\",\"e\"]\n",
        "len1=min(len(list1),len(list2))\n",
        "dict1={}\n",
        "for each in range (len1):\n",
        "  dict1[list1[each]]=[list2[each]]\n",
        "  print (dict1)"
      ],
      "execution_count": 10,
      "outputs": [
        {
          "output_type": "stream",
          "text": [
            "{1: ['a']}\n",
            "{1: ['a'], 2: ['b']}\n",
            "{1: ['a'], 2: ['b'], 3: ['c']}\n",
            "{1: ['a'], 2: ['b'], 3: ['c'], 4: ['d']}\n",
            "{1: ['a'], 2: ['b'], 3: ['c'], 4: ['d'], 5: ['e']}\n"
          ],
          "name": "stdout"
        }
      ]
    }
  ]
}