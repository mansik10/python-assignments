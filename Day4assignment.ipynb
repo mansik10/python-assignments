{
  "nbformat": 4,
  "nbformat_minor": 0,
  "metadata": {
    "colab": {
      "name": "Day4assignment.ipynb",
      "provenance": []
    },
    "kernelspec": {
      "name": "python3",
      "display_name": "Python 3"
    }
  },
  "cells": [
    {
      "cell_type": "markdown",
      "metadata": {
        "id": "P8Lk9hrWnTfm",
        "colab_type": "text"
      },
      "source": [
        "**1.find all the occurance of substring in the given string\n",
        "\"what we think we become;we are python programmer\"\n",
        "find the index value**"
      ]
    },
    {
      "cell_type": "code",
      "metadata": {
        "id": "-b2pzKM4nvDD",
        "colab_type": "code",
        "colab": {
          "base_uri": "https://localhost:8080/",
          "height": 35
        },
        "outputId": "7bf5bb04-0eeb-4bb4-af71-6e6bee8a4df0"
      },
      "source": [
        "str1=\"what we think we become;we are python programmer\"\n",
        "str1.find(\"we\")"
      ],
      "execution_count": 1,
      "outputs": [
        {
          "output_type": "execute_result",
          "data": {
            "text/plain": [
              "5"
            ]
          },
          "metadata": {
            "tags": []
          },
          "execution_count": 1
        }
      ]
    },
    {
      "cell_type": "code",
      "metadata": {
        "id": "ao4Py1amoIDH",
        "colab_type": "code",
        "colab": {
          "base_uri": "https://localhost:8080/",
          "height": 35
        },
        "outputId": "9cd019d4-ecf6-4169-bf04-7bc050e8f359"
      },
      "source": [
        "str1.rfind(\"we\")"
      ],
      "execution_count": 2,
      "outputs": [
        {
          "output_type": "execute_result",
          "data": {
            "text/plain": [
              "24"
            ]
          },
          "metadata": {
            "tags": []
          },
          "execution_count": 2
        }
      ]
    },
    {
      "cell_type": "code",
      "metadata": {
        "id": "pF1XN-RGoU9J",
        "colab_type": "code",
        "colab": {
          "base_uri": "https://localhost:8080/",
          "height": 35
        },
        "outputId": "bfea4ab5-db8d-4fbe-f057-29c438b6142d"
      },
      "source": [
        "str1.count(\"we\")"
      ],
      "execution_count": 3,
      "outputs": [
        {
          "output_type": "execute_result",
          "data": {
            "text/plain": [
              "3"
            ]
          },
          "metadata": {
            "tags": []
          },
          "execution_count": 3
        }
      ]
    },
    {
      "cell_type": "markdown",
      "metadata": {
        "id": "5uJqnz-go64C",
        "colab_type": "text"
      },
      "source": [
        "**2.explain using \n",
        "islower()\n",
        "isupper()\n",
        "with different kinds of strings**"
      ]
    },
    {
      "cell_type": "code",
      "metadata": {
        "id": "eyI-LFeWpSS1",
        "colab_type": "code",
        "colab": {}
      },
      "source": [
        "islower():\n",
        "\n",
        "In Python, islower() is a built-in method used for string handling.\n",
        "The islower() methods returns “True” if all characters in the string are lowercase, Otherwise, It returns “False”.\n",
        "\n",
        "syntax:\n",
        "\n",
        "string.islower()\n",
        "\n",
        "example:\n"
      ],
      "execution_count": null,
      "outputs": []
    },
    {
      "cell_type": "code",
      "metadata": {
        "id": "J9SpFrOCqQKA",
        "colab_type": "code",
        "colab": {
          "base_uri": "https://localhost:8080/",
          "height": 35
        },
        "outputId": "50899819-193a-41bb-e11d-890381ede7fa"
      },
      "source": [
        "string = 'pythonprogramming'\n",
        "print(string.islower()) \n",
        "  \n"
      ],
      "execution_count": 11,
      "outputs": [
        {
          "output_type": "stream",
          "text": [
            "True\n"
          ],
          "name": "stdout"
        }
      ]
    },
    {
      "cell_type": "code",
      "metadata": {
        "id": "_TecDGQjqgMi",
        "colab_type": "code",
        "colab": {
          "base_uri": "https://localhost:8080/",
          "height": 35
        },
        "outputId": "60b6f0d0-48ce-4f78-9e42-d5420dc6fc67"
      },
      "source": [
        "string = 'PythonProgramming'\n",
        "print(string.islower()) "
      ],
      "execution_count": 12,
      "outputs": [
        {
          "output_type": "stream",
          "text": [
            "False\n"
          ],
          "name": "stdout"
        }
      ]
    },
    {
      "cell_type": "markdown",
      "metadata": {
        "id": "SJJK3rUrq3_s",
        "colab_type": "text"
      },
      "source": [
        "isupper():\n",
        "\n",
        "In Python, isupper() is a built-in method used for string handling.\n",
        "The isupper() methods returns “True” if all characters in the string are uppercase, Otherwise, It returns “False”.\n",
        "\n",
        "syntax:\n",
        "\n",
        "string.isupper()\n",
        "\n",
        "example:\n"
      ]
    },
    {
      "cell_type": "code",
      "metadata": {
        "id": "GdkMd1XcrMmR",
        "colab_type": "code",
        "colab": {
          "base_uri": "https://localhost:8080/",
          "height": 35
        },
        "outputId": "fc4ead27-b8dc-411b-df46-f704753de683"
      },
      "source": [
        "string = 'I LOVE PROGRAMMING'\n",
        "print(string.isupper()) \n",
        "  "
      ],
      "execution_count": 13,
      "outputs": [
        {
          "output_type": "stream",
          "text": [
            "True\n"
          ],
          "name": "stdout"
        }
      ]
    },
    {
      "cell_type": "code",
      "metadata": {
        "id": "Db4eaExUrdZ0",
        "colab_type": "code",
        "colab": {
          "base_uri": "https://localhost:8080/",
          "height": 35
        },
        "outputId": "d6523438-b04f-4af3-b097-05419ff124d2"
      },
      "source": [
        "string = 'I love Programming'\n",
        "print(string.isupper()) \n",
        "  "
      ],
      "execution_count": 14,
      "outputs": [
        {
          "output_type": "stream",
          "text": [
            "False\n"
          ],
          "name": "stdout"
        }
      ]
    }
  ]
}