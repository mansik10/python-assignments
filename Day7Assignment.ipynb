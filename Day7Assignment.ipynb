{
  "nbformat": 4,
  "nbformat_minor": 0,
  "metadata": {
    "colab": {
      "name": "Day7Assignment.ipynb",
      "provenance": []
    },
    "kernelspec": {
      "name": "python3",
      "display_name": "Python 3"
    }
  },
  "cells": [
    {
      "cell_type": "markdown",
      "metadata": {
        "id": "9GbPmdZbcn7k",
        "colab_type": "text"
      },
      "source": [
        "**Question 1:**\n",
        "\n",
        "use the dictionary\n",
        "\n",
        "port1={21:\"FTP\",22:\"SSH\",23:\"Telnet\",80:\"http\"}\n",
        "\n",
        "and make a new dictionary in which keys become values and values become keys"
      ]
    },
    {
      "cell_type": "code",
      "metadata": {
        "id": "Y_F2oWWBe2Hl",
        "colab_type": "code",
        "colab": {
          "base_uri": "https://localhost:8080/",
          "height": 164
        },
        "outputId": "7a2b00af-39b5-429a-f69b-ba8d4aa94b98"
      },
      "source": [
        "port1={21:\"FTP\",22:\"SSH\",23:\"Telnet\",80:\"http\"} \n",
        "  \n",
        "port2 = dict([(value, key) for key, value in port1.items()]) \n",
        "print(port1)  \n",
        "  \n",
        "print() \n",
        "print (\"Dictionary after swapping is :  \")  \n",
        "print(\"keys: values\") \n",
        "for i in port2:  \n",
        "   print(i, \" :  \", port2[i]) "
      ],
      "execution_count": 14,
      "outputs": [
        {
          "output_type": "stream",
          "text": [
            "{21: 'FTP', 22: 'SSH', 23: 'Telnet', 80: 'http'}\n",
            "\n",
            "Dictionary after swapping is :  \n",
            "keys: values\n",
            "FTP  :   21\n",
            "SSH  :   22\n",
            "Telnet  :   23\n",
            "http  :   80\n"
          ],
          "name": "stdout"
        }
      ]
    },
    {
      "cell_type": "markdown",
      "metadata": {
        "id": "YvyU0augiD0w",
        "colab_type": "text"
      },
      "source": [
        "**Question 2:**\n",
        "\n",
        "take alist of tuple\n",
        "\n",
        "[(1,2),(3,4),(5,6),(4,5)]\n",
        "\n",
        "make a new list which contains the sum of the numbers of tuples\n"
      ]
    },
    {
      "cell_type": "code",
      "metadata": {
        "id": "AaK277eYimma",
        "colab_type": "code",
        "colab": {
          "base_uri": "https://localhost:8080/",
          "height": 35
        },
        "outputId": "39caac74-97f0-49f5-c01a-8008649e57a2"
      },
      "source": [
        "list=[(1,2),(3,4),(5,6),(4,5)]\n",
        "[sum(tup) for tup in list]"
      ],
      "execution_count": 22,
      "outputs": [
        {
          "output_type": "execute_result",
          "data": {
            "text/plain": [
              "[3, 7, 11, 9]"
            ]
          },
          "metadata": {
            "tags": []
          },
          "execution_count": 22
        }
      ]
    },
    {
      "cell_type": "markdown",
      "metadata": {
        "id": "MTrhfyz3lDLr",
        "colab_type": "text"
      },
      "source": [
        "**Question 3:**\n",
        "\n",
        "take a list as shown below\n",
        "\n",
        "[(1,2,3),[1,2],[\"a\",\"hit\",\"less\"]]\n",
        "\n",
        "the list contains tuple and list make the elements of inner lists and tuples to outer list."
      ]
    },
    {
      "cell_type": "code",
      "metadata": {
        "id": "ch-07QaPlu63",
        "colab_type": "code",
        "colab": {
          "base_uri": "https://localhost:8080/",
          "height": 35
        },
        "outputId": "6449e87d-5d11-4682-c85f-527ce1a54f08"
      },
      "source": [
        "list=[(1,2,3),[1,2],[\"a\",\"hit\",\"less\"]]\n",
        "res=[]\n",
        "for i in list: \n",
        "    if type(i)==type(list): \n",
        "        res=res+i\n",
        "    elif type(i)==tuple:\n",
        "        res.extend(i)\n",
        "    else: \n",
        "        res.append(i)\n",
        "\n",
        "print(res)\n"
      ],
      "execution_count": 25,
      "outputs": [
        {
          "output_type": "stream",
          "text": [
            "[(1, 2, 3), 1, 2, 'a', 'hit', 'less']\n"
          ],
          "name": "stdout"
        }
      ]
    },
    {
      "cell_type": "code",
      "metadata": {
        "id": "2FMKzGOqpVzF",
        "colab_type": "code",
        "colab": {}
      },
      "source": [
        ""
      ],
      "execution_count": null,
      "outputs": []
    }
  ]
}