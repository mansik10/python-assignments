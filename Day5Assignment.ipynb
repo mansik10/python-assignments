{
  "nbformat": 4,
  "nbformat_minor": 0,
  "metadata": {
    "colab": {
      "name": "Day5Assignment.ipynb",
      "provenance": []
    },
    "kernelspec": {
      "name": "python3",
      "display_name": "Python 3"
    }
  },
  "cells": [
    {
      "cell_type": "markdown",
      "metadata": {
        "id": "oeF9BuAt-_i0",
        "colab_type": "text"
      },
      "source": [
        "**Assignment-1**\n",
        "\n",
        "[0,1,2,10,4,1,0,56,2,0,1,3,0,56,0,4]\n",
        "\n",
        "Sort by increasing order but all zeros should be at right hand side."
      ]
    },
    {
      "cell_type": "code",
      "metadata": {
        "id": "wOvmqzU6AHr4",
        "colab_type": "code",
        "colab": {
          "base_uri": "https://localhost:8080/",
          "height": 35
        },
        "outputId": "136dc823-e725-4429-daab-2ecd582956cf"
      },
      "source": [
        "list1=[0,1,2,10,4,1,0,56,2,0,1,3,0,56,0,4]\n",
        "def move_zero(list1):\n",
        "    a = [0 for i in range(list1.count(0))]\n",
        "    x = [ i for i in list1 if i != 0]\n",
        "    x.extend(a)\n",
        "    return(x)\n",
        "\n",
        "print(move_zero(list1))"
      ],
      "execution_count": 7,
      "outputs": [
        {
          "output_type": "stream",
          "text": [
            "[1, 2, 10, 4, 1, 56, 2, 1, 3, 56, 4, 0, 0, 0, 0, 0]\n"
          ],
          "name": "stdout"
        }
      ]
    },
    {
      "cell_type": "markdown",
      "metadata": {
        "id": "47SwAyvn_fSH",
        "colab_type": "text"
      },
      "source": [
        "**Assignment-2**\n",
        "\n",
        "list1=[10,20,40,60,70,80] sorted list\n",
        "\n",
        "list2=[5,15,25,35,45,60] sorted list\n",
        "\n",
        "merge these two sorted list to produce one sorted list,but use only one loop either while or for only one time."
      ]
    },
    {
      "cell_type": "code",
      "metadata": {
        "id": "iqFi4Tvu-_CS",
        "colab_type": "code",
        "colab": {
          "base_uri": "https://localhost:8080/",
          "height": 35
        },
        "outputId": "c00ea251-d453-429e-a0eb-e2bdbad5c7e1"
      },
      "source": [
        "list1=[10,20,40,60,70,80]\n",
        "list2=[5,15,25,35,45,60]\n",
        "list1.extend(list2)\n",
        "sorted(list1)"
      ],
      "execution_count": 9,
      "outputs": [
        {
          "output_type": "execute_result",
          "data": {
            "text/plain": [
              "[5, 10, 15, 20, 25, 35, 40, 45, 60, 60, 70, 80]"
            ]
          },
          "metadata": {
            "tags": []
          },
          "execution_count": 9
        }
      ]
    },
    {
      "cell_type": "code",
      "metadata": {
        "id": "oMExKrOfDV6z",
        "colab_type": "code",
        "colab": {}
      },
      "source": [
        ""
      ],
      "execution_count": null,
      "outputs": []
    }
  ]
}